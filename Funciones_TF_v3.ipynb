{
  "nbformat": 4,
  "nbformat_minor": 0,
  "metadata": {
    "colab": {
      "name": "Funciones_TF_v2.ipynb",
      "provenance": []
    },
    "kernelspec": {
      "name": "python3",
      "display_name": "Python 3"
    },
    "language_info": {
      "name": "python"
    }
  },
  "cells": [
    {
      "cell_type": "markdown",
      "source": [
        "Cálculo de distancia entre coordenadas"
      ],
      "metadata": {
        "id": "rDS3tfbAy4Za"
      }
    },
    {
      "cell_type": "code",
      "execution_count": null,
      "metadata": {
        "id": "1i0wx1nkXSWL"
      },
      "outputs": [],
      "source": [
        "import math"
      ]
    },
    {
      "cell_type": "markdown",
      "source": [
        "Fórmula de Harvesine"
      ],
      "metadata": {
        "id": "4vw1C0QMeWiF"
      }
    },
    {
      "cell_type": "markdown",
      "source": [
        "![image.png](data:image/png;base64,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)"
      ],
      "metadata": {
        "id": "67elSQc2xrNg"
      }
    },
    {
      "cell_type": "code",
      "source": [
        "def cdCoord(la1,lo1,la2,lo2):\n",
        "  RT=6371\n",
        "  Dla=la2-la1\n",
        "  Dlo=lo2-lo1\n",
        "\n",
        "  rla1=math.radians(la1)\n",
        "  rla2=math.radians(la2)\n",
        "  rdla=math.radians(Dla/2)\n",
        "  rdlo=math.radians(Dlo/2)\n",
        "  sla=math.sin(rdla)\n",
        "  slo=math.sin(rdlo)\n",
        "  \n",
        "  p1=sla**2\n",
        "  p2=math.cos(rla1)*math.cos(rla2)*(slo**2)\n",
        "  fc=math.sqrt(p1+p2)\n",
        "  d=2*RT*math.asin(fc)\n",
        "\n",
        "  return d"
      ],
      "metadata": {
        "id": "vbwlIqkCcURr"
      },
      "execution_count": null,
      "outputs": []
    },
    {
      "cell_type": "code",
      "source": [
        "cla1=-12.09952\n",
        "clo1=-76.98974\n",
        "cla2=-12.09989\n",
        "clo2=-76.98911\n",
        "D=cdCoord(cla1,clo1,cla2,clo2)\n",
        "strd=\"La distancia es: \"+str(round(D,5))+\" Km\"\n",
        "print(strd)"
      ],
      "metadata": {
        "colab": {
          "base_uri": "https://localhost:8080/"
        },
        "id": "lDnRw789cUIf",
        "outputId": "bfb5d0c6-5fd5-4ce0-f3eb-46120048929d"
      },
      "execution_count": null,
      "outputs": [
        {
          "output_type": "stream",
          "name": "stdout",
          "text": [
            "La distancia es: 0.0799 Km\n"
          ]
        }
      ]
    },
    {
      "cell_type": "markdown",
      "source": [
        "Para nuestro formato de (latitud,longitud)"
      ],
      "metadata": {
        "id": "Bak_BfACvoA6"
      }
    },
    {
      "cell_type": "code",
      "source": [
        "def Dcoord2(C1,C2):\n",
        "  la1=C1[0]\n",
        "  lo1=C1[1]\n",
        "  la2=C2[0]\n",
        "  lo2=C2[1]\n",
        "  D=cdCoord(la1,lo1,la2,lo2)\n",
        "  return D\n"
      ],
      "metadata": {
        "id": "sWbE9iSLunbF"
      },
      "execution_count": null,
      "outputs": []
    },
    {
      "cell_type": "code",
      "source": [
        "c1=(-12.09952,-76.98974)\n",
        "c2=(-12.09989,-76.98911)\n",
        "Dcoord2(c1,c2)"
      ],
      "metadata": {
        "colab": {
          "base_uri": "https://localhost:8080/"
        },
        "id": "G_uT2NeivLSl",
        "outputId": "763202e9-acce-46bc-9e3b-c5c22a8a3e24"
      },
      "execution_count": null,
      "outputs": [
        {
          "output_type": "execute_result",
          "data": {
            "text/plain": [
              "0.07990274891193774"
            ]
          },
          "metadata": {},
          "execution_count": 61
        }
      ]
    },
    {
      "cell_type": "markdown",
      "source": [
        "Función para hallar peso de aristas"
      ],
      "metadata": {
        "id": "95pBI1gUv0nm"
      }
    },
    {
      "cell_type": "code",
      "source": [
        "import random "
      ],
      "metadata": {
        "id": "s6jg05_-hN_u"
      },
      "execution_count": null,
      "outputs": []
    },
    {
      "cell_type": "code",
      "source": [
        "def rangoTrafico():\n",
        "  rtraf=[]\n",
        "  madrugada=0\n",
        "  mañana=7\n",
        "  tarde=13\n",
        "  noche=20\n",
        "  for i in range(24):\n",
        "    if (i>=madrugada and i<mañana):\n",
        "      rtraf.append(random.uniform(0.3,0.9))\n",
        "    elif (i>=mañana and i<tarde):\n",
        "      rtraf.append(random.uniform(0.2,0.6))\n",
        "    elif (i>=tarde and i<noche):\n",
        "      rtraf.append(random.uniform(0.9,1.5))\n",
        "    else:\n",
        "      rtraf.append(random.uniform(1.1,1.3))\n",
        "  return rtraf\n",
        "\n",
        "def hallarPeso(longitud, hora):\n",
        "  Traf=rangoTrafico()\n",
        "  P=0\n",
        "\n",
        "  if(hora>=0 and hora<=23):\n",
        "    P=longitud+longitud*Traf[hora]\n",
        "  else:\n",
        "    if(hora>=24):\n",
        "      P=hallarPeso(longitud,hora-24)\n",
        "    if(hora<0):\n",
        "      P=hallarPeso(longitud,hora+24)\n",
        "  return P\n"
      ],
      "metadata": {
        "id": "Wepo_3Qsm3GC"
      },
      "execution_count": null,
      "outputs": []
    },
    {
      "cell_type": "code",
      "source": [
        "c1=(-12.09952,-76.98974)\n",
        "c2=(-12.09989,-76.98911)\n",
        "D=Dcoord2(c1,c2)\n",
        "for i in range(25):\n",
        "  P=hallarPeso(D,i)\n",
        "  strd=str(i)+\" horas: El peso de la arista es: \"+ str(round(P,3))\n",
        "  print(strd)"
      ],
      "metadata": {
        "colab": {
          "base_uri": "https://localhost:8080/"
        },
        "id": "JagxveOstEfy",
        "outputId": "ebb8f4f3-aec9-483b-8adc-3d7ea83b98ce"
      },
      "execution_count": null,
      "outputs": [
        {
          "output_type": "stream",
          "name": "stdout",
          "text": [
            "0 horas: El peso de la arista es: 0.136\n",
            "1 horas: El peso de la arista es: 0.12\n",
            "2 horas: El peso de la arista es: 0.108\n",
            "3 horas: El peso de la arista es: 0.105\n",
            "4 horas: El peso de la arista es: 0.14\n",
            "5 horas: El peso de la arista es: 0.127\n",
            "6 horas: El peso de la arista es: 0.11\n",
            "7 horas: El peso de la arista es: 0.108\n",
            "8 horas: El peso de la arista es: 0.127\n",
            "9 horas: El peso de la arista es: 0.113\n",
            "10 horas: El peso de la arista es: 0.12\n",
            "11 horas: El peso de la arista es: 0.115\n",
            "12 horas: El peso de la arista es: 0.099\n",
            "13 horas: El peso de la arista es: 0.165\n",
            "14 horas: El peso de la arista es: 0.162\n",
            "15 horas: El peso de la arista es: 0.189\n",
            "16 horas: El peso de la arista es: 0.175\n",
            "17 horas: El peso de la arista es: 0.187\n",
            "18 horas: El peso de la arista es: 0.175\n",
            "19 horas: El peso de la arista es: 0.175\n",
            "20 horas: El peso de la arista es: 0.172\n",
            "21 horas: El peso de la arista es: 0.181\n",
            "22 horas: El peso de la arista es: 0.175\n",
            "23 horas: El peso de la arista es: 0.175\n",
            "24 horas: El peso de la arista es: 0.119\n"
          ]
        }
      ]
    },
    {
      "cell_type": "markdown",
      "source": [
        "<h7>Para hallar el camino más corto usaremos el algoritmo de Kruskal"
      ],
      "metadata": {
        "id": "FRRIbVlUS47f"
      }
    },
    {
      "cell_type": "code",
      "source": [
        "class DisjointSet:\n",
        "    def __init__(self, n):\n",
        "        self.s = [-1]*n\n",
        "\n",
        "    def find(self, a):\n",
        "        if self.s[a] < 0:\n",
        "            return a\n",
        "        parent = self.find(self.s[a])\n",
        "        self.s[a] = parent\n",
        "        return parent\n",
        "\n",
        "    def sameset(self, a, b):\n",
        "        return self.find(a) == self.find(b)\n",
        "\n",
        "    def union(self, a, b):\n",
        "        if self.sameset(a, b):\n",
        "            return\n",
        "        a = self.find(a)\n",
        "        b = self.find(b)\n",
        "        if -self.s[a] > -self.s[b]:\n",
        "            self.s[a] += self.s[b]\n",
        "            self.s[b] = a\n",
        "        else:\n",
        "            self.s[b] += self.s[a]\n",
        "            self.s[a] = b"
      ],
      "metadata": {
        "id": "y_w_cM5VSdbP"
      },
      "execution_count": 1,
      "outputs": []
    },
    {
      "cell_type": "code",
      "source": [
        "def kruskal(G):\n",
        "  n=len(G)\n",
        "  edges=[(w,u,v) for u in range(n) for v,w in G[u]]\n",
        "  edges.sort()\n",
        "  edges=list(reversed(edges))\n",
        "  T=[]\n",
        "  ds=DisjointSet(n)\n",
        "  links=0\n",
        "  while len(T)<n-1:\n",
        "    _,u,v=edges.pop()\n",
        "    if not ds.sameset(u,v):\n",
        "      ds.union(u,v)\n",
        "      links+=1\n",
        "      T.append((u,v))\n",
        "    if links==n-1: break\n",
        "  return T"
      ],
      "metadata": {
        "id": "hFhY825tSemG"
      },
      "execution_count": 2,
      "outputs": []
    },
    {
      "cell_type": "code",
      "source": [
        ""
      ],
      "metadata": {
        "id": "MN1le7vLSsmK"
      },
      "execution_count": null,
      "outputs": []
    },
    {
      "cell_type": "code",
      "source": [
        ""
      ],
      "metadata": {
        "id": "N6DO-sLtSseC"
      },
      "execution_count": null,
      "outputs": []
    }
  ]
}