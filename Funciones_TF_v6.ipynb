{
  "nbformat": 4,
  "nbformat_minor": 0,
  "metadata": {
    "colab": {
      "name": "Funciones_TF_v5.ipynb",
      "provenance": [],
      "collapsed_sections": []
    },
    "kernelspec": {
      "name": "python3",
      "display_name": "Python 3"
    },
    "language_info": {
      "name": "python"
    }
  },
  "cells": [
    {
      "cell_type": "markdown",
      "source": [
        "Cálculo de distancia entre coordenadas"
      ],
      "metadata": {
        "id": "rDS3tfbAy4Za"
      }
    },
    {
      "cell_type": "code",
      "execution_count": 10,
      "metadata": {
        "id": "1i0wx1nkXSWL"
      },
      "outputs": [],
      "source": [
        "import math"
      ]
    },
    {
      "cell_type": "markdown",
      "source": [
        "Fórmula de Harvesine"
      ],
      "metadata": {
        "id": "4vw1C0QMeWiF"
      }
    },
    {
      "cell_type": "markdown",
      "source": [
        "![image.png](data:image/png;base64,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)"
      ],
      "metadata": {
        "id": "67elSQc2xrNg"
      }
    },
    {
      "cell_type": "code",
      "source": [
        "def cdCoord(la1,lo1,la2,lo2):\n",
        "  RT=6371\n",
        "  Dla=la2-la1\n",
        "  Dlo=lo2-lo1\n",
        "\n",
        "  rla1=math.radians(la1)\n",
        "  rla2=math.radians(la2)\n",
        "  rdla=math.radians(Dla/2)\n",
        "  rdlo=math.radians(Dlo/2)\n",
        "  sla=math.sin(rdla)\n",
        "  slo=math.sin(rdlo)\n",
        "  \n",
        "  p1=sla**2\n",
        "  p2=math.cos(rla1)*math.cos(rla2)*(slo**2)\n",
        "  fc=math.sqrt(p1+p2)\n",
        "  d=2*RT*math.asin(fc)\n",
        "\n",
        "  return d"
      ],
      "metadata": {
        "id": "vbwlIqkCcURr"
      },
      "execution_count": 2,
      "outputs": []
    },
    {
      "cell_type": "code",
      "source": [
        "cla1=-12.09952\n",
        "clo1=-76.98974\n",
        "cla2=-12.09989\n",
        "clo2=-76.98911\n",
        "D=cdCoord(cla1,clo1,cla2,clo2)\n",
        "strd=\"La distancia es: \"+str(round(D,5))+\" Km\"\n",
        "print(strd)"
      ],
      "metadata": {
        "colab": {
          "base_uri": "https://localhost:8080/"
        },
        "id": "lDnRw789cUIf",
        "outputId": "d09479ce-33af-41b8-e669-da1d3514d27a"
      },
      "execution_count": null,
      "outputs": [
        {
          "output_type": "stream",
          "name": "stdout",
          "text": [
            "La distancia es: 0.0799 Km\n"
          ]
        }
      ]
    },
    {
      "cell_type": "markdown",
      "source": [
        "Para nuestro formato de (latitud,longitud)"
      ],
      "metadata": {
        "id": "Bak_BfACvoA6"
      }
    },
    {
      "cell_type": "code",
      "source": [
        "def Dcoord2(C1,C2):\n",
        "  la1=C1[0]\n",
        "  lo1=C1[1]\n",
        "  la2=C2[0]\n",
        "  lo2=C2[1]\n",
        "  D=cdCoord(la1,lo1,la2,lo2)\n",
        "  return D\n"
      ],
      "metadata": {
        "id": "sWbE9iSLunbF"
      },
      "execution_count": 6,
      "outputs": []
    },
    {
      "cell_type": "code",
      "source": [
        "c1=(-12.09952,-76.98974)\n",
        "c2=(-12.09989,-76.98911)\n",
        "Dcoord2(c1,c2)"
      ],
      "metadata": {
        "colab": {
          "base_uri": "https://localhost:8080/"
        },
        "id": "G_uT2NeivLSl",
        "outputId": "0c1376d7-5384-405a-f333-877621251cb0"
      },
      "execution_count": null,
      "outputs": [
        {
          "output_type": "execute_result",
          "data": {
            "text/plain": [
              "0.07990274891193774"
            ]
          },
          "metadata": {},
          "execution_count": 5
        }
      ]
    },
    {
      "cell_type": "markdown",
      "source": [
        "Función para hallar peso de aristas"
      ],
      "metadata": {
        "id": "95pBI1gUv0nm"
      }
    },
    {
      "cell_type": "code",
      "source": [
        "import random "
      ],
      "metadata": {
        "id": "s6jg05_-hN_u"
      },
      "execution_count": 7,
      "outputs": []
    },
    {
      "cell_type": "code",
      "source": [
        "def rangoTrafico():\n",
        "  rtraf=[]\n",
        "  madrugada=0\n",
        "  mañana=7\n",
        "  tarde=13\n",
        "  noche=20\n",
        "  for i in range(24):\n",
        "    if (i>=madrugada and i<mañana):\n",
        "      rtraf.append(random.uniform(0.3,0.9))\n",
        "    elif (i>=mañana and i<tarde):\n",
        "      rtraf.append(random.uniform(0.2,0.6))\n",
        "    elif (i>=tarde and i<noche):\n",
        "      rtraf.append(random.uniform(0.9,1.5))\n",
        "    else:\n",
        "      rtraf.append(random.uniform(1.1,1.3))\n",
        "  return rtraf\n",
        "\n",
        "def hallarPeso(longitud, hora):\n",
        "  Traf=rangoTrafico()\n",
        "  P=0\n",
        "\n",
        "  if(hora>=0 and hora<=23):\n",
        "    P=longitud+longitud*Traf[hora]\n",
        "  else:\n",
        "    if(hora>=24):\n",
        "      P=hallarPeso(longitud,hora-24)\n",
        "    if(hora<0):\n",
        "      P=hallarPeso(longitud,hora+24)\n",
        "  return P\n"
      ],
      "metadata": {
        "id": "Wepo_3Qsm3GC"
      },
      "execution_count": 8,
      "outputs": []
    },
    {
      "cell_type": "code",
      "source": [
        "#Hallar peso en base a la hora del día\n",
        "Hora=int(input(\"Hora actual: \"))\n",
        "c1=(-12.09952,-76.98974)\n",
        "c2=(-12.09989,-76.98911)\n",
        "D=Dcoord2(c1,c2)\n",
        "P=hallarPeso(D,Hora)\n",
        "strd=str(Hora)+\" horas: El peso de la arista es: \"+ str(round(P,3))\n",
        "print(strd)"
      ],
      "metadata": {
        "colab": {
          "base_uri": "https://localhost:8080/"
        },
        "id": "JagxveOstEfy",
        "outputId": "bd59fda6-9132-48d5-e3e7-badbb831dc8d"
      },
      "execution_count": 13,
      "outputs": [
        {
          "output_type": "stream",
          "name": "stdout",
          "text": [
            "Hora actual: 17\n",
            "17 horas: El peso de la arista es: 0.185\n"
          ]
        }
      ]
    },
    {
      "cell_type": "markdown",
      "source": [
        "<h7>Para hallar el camino más corto usaremos el algoritmo de Kruskal"
      ],
      "metadata": {
        "id": "FRRIbVlUS47f"
      }
    },
    {
      "cell_type": "code",
      "source": [
        "class DisjointSet:\n",
        "    def __init__(self, n):\n",
        "        self.s = [-1]*n\n",
        "\n",
        "    def find(self, a):\n",
        "        if self.s[a] < 0:\n",
        "            return a\n",
        "        parent = self.find(self.s[a])\n",
        "        self.s[a] = parent\n",
        "        return parent\n",
        "\n",
        "    def sameset(self, a, b):\n",
        "        return self.find(a) == self.find(b)\n",
        "\n",
        "    def union(self, a, b):\n",
        "        if self.sameset(a, b):\n",
        "            return\n",
        "        a = self.find(a)\n",
        "        b = self.find(b)\n",
        "        if -self.s[a] > -self.s[b]:\n",
        "            self.s[a] += self.s[b]\n",
        "            self.s[b] = a\n",
        "        else:\n",
        "            self.s[b] += self.s[a]\n",
        "            self.s[a] = b"
      ],
      "metadata": {
        "id": "y_w_cM5VSdbP"
      },
      "execution_count": null,
      "outputs": []
    },
    {
      "cell_type": "code",
      "source": [
        "def kruskal(G):\n",
        "  n=len(G)\n",
        "  edges=[(w,u,v) for u in range(n) for v,w in G[u]]\n",
        "  edges.sort()\n",
        "  edges=list(reversed(edges))\n",
        "  T=[]\n",
        "  ds=DisjointSet(n)\n",
        "  links=0\n",
        "  while len(T)<n-1:\n",
        "    _,u,v=edges.pop()\n",
        "    if not ds.sameset(u,v):\n",
        "      ds.union(u,v)\n",
        "      links+=1\n",
        "      T.append((u,v))\n",
        "    if links==n-1: break\n",
        "  return T"
      ],
      "metadata": {
        "id": "hFhY825tSemG"
      },
      "execution_count": null,
      "outputs": []
    },
    {
      "cell_type": "code",
      "source": [
        "!git clone https://github.com/JeffersonOrtega2018/TF-201410183-201617515-201920273.git"
      ],
      "metadata": {
        "id": "FAjC2ewWgFUq"
      },
      "execution_count": null,
      "outputs": []
    },
    {
      "cell_type": "code",
      "source": [
        "%%file coordenadas.txt\n",
        "1 (-12.09465,-77.00591)\n",
        "2 (-12.09452,-77.00429)\n",
        "3 (-12.09455,-77.00272)\n",
        "4 (-12.09427,-77.00021)\n",
        "5 (-12.09363,-77.00969)\n",
        "6 (-12.09317,-76.99568)\n",
        "7 (-12.09569,-76.99110)\n",
        "8 (-12.09635,-76.98631)\n",
        "9 (-12.09410,-77.00597)\n",
        "10 (-12.09081,-77.00240)\n",
        "11 (-12.09072,-77.00183)\n",
        "12 (-12.09353,-77.00604)\n",
        "13 (-12.09123,-77.00484)\n",
        "14 (-12.09032,-76.99907)\n",
        "15 (-12.09024,-76.99848)\n",
        "16 (-12.08941,-76.99084)\n",
        "17 (-12.08943,-76.99286)\n",
        "18 (-12.08952,-76.99020)\n",
        "19 (-12.08980,-76.99540)\n",
        "20 (-12.09111,-76.98661)\n",
        "21 (-12.09156,-76.98603)\n",
        "22 (-12.09148,-76.98580)\n",
        "23 (-12.09441,-77.00604)\n",
        "24 (-12.09521,-77.00583)\n",
        "25 (-12.09782,-77.00598)\n",
        "26 (-12.10302,-77.00625)\n",
        "27 (-12.10516,-77.00627)\n",
        "28 (-12.09510,-77.00431)"
      ],
      "metadata": {
        "colab": {
          "base_uri": "https://localhost:8080/"
        },
        "id": "k-w346jiw2eH",
        "outputId": "b71c3d0d-58af-4886-ad13-54651cfeeb7a"
      },
      "execution_count": null,
      "outputs": [
        {
          "output_type": "stream",
          "name": "stdout",
          "text": [
            "Writing coordenadas.txt\n"
          ]
        }
      ]
    },
    {
      "cell_type": "code",
      "source": [
        "%%file intersect.txt\n",
        "1 - 01 03\n",
        "2 - 01 04\n",
        "3 - 01 05\n",
        "4 - 01 06 \n",
        "5 - 01 49 \n",
        "6 - 01 60\n",
        "7 - 01 118\n",
        "8 - 01 208 \n",
        "9 - 02 01\n",
        "10 - 02 30"
      ],
      "metadata": {
        "colab": {
          "base_uri": "https://localhost:8080/"
        },
        "id": "Kah-vRapAD90",
        "outputId": "aaeced93-544e-483f-ac77-8d0e7d30bc16"
      },
      "execution_count": null,
      "outputs": [
        {
          "output_type": "stream",
          "name": "stdout",
          "text": [
            "Overwriting intersect.txt\n"
          ]
        }
      ]
    },
    {
      "cell_type": "code",
      "source": [
        "%%file coordenadas.txt\n",
        "1 (-12.09465,-77.00591)\n",
        "2 (-12.09452,-77.00429)\n",
        "3 (-12.09455,-77.00272)\n",
        "4 (-12.09427,-77.00021)\n",
        "5 (-12.09363,-77.00969)\n",
        "6 (-12.09317,-76.99568)\n",
        "7 (-12.09569,-76.99110)\n",
        "8 (-12.09635,-76.98631)\n",
        "9 (-12.09410,-77.00597)\n",
        "10 (-12.09081,-77.00240)"
      ],
      "metadata": {
        "colab": {
          "base_uri": "https://localhost:8080/"
        },
        "id": "dIxcdOlzALi0",
        "outputId": "48ab24b6-2bbe-4dbf-a745-74baf2051fca"
      },
      "execution_count": null,
      "outputs": [
        {
          "output_type": "stream",
          "name": "stdout",
          "text": [
            "Writing coordenadas.txt\n"
          ]
        }
      ]
    },
    {
      "cell_type": "code",
      "source": [
        "%%file graph.txt\n",
        "01 03\n",
        "01 04\n",
        "01 05\n",
        "01 06 \n",
        "01 49 \n",
        "01 60\n",
        "01 118\n",
        "01 208 \n",
        "02 01\n",
        "02 30\n",
        "02 31\n",
        "02 33\n",
        "02 38\n",
        "02 65\n",
        "02 67\n",
        "02 73\n",
        "02 79\n",
        "02 82\n",
        "02 89\n",
        "02 105\n",
        "02 195\n",
        "02 209\n",
        "03 02\n",
        "03 08\n",
        "03 21\n",
        "03 158\n",
        "03 166\n",
        "04 08\n",
        "05 01\n",
        "05 02\n",
        "05 08\n",
        "05 48\n",
        "05 51\n",
        "05 165\n",
        "05 188\n",
        "05 189\n",
        "06 08\n",
        "06 16\n",
        "06 18\n",
        "06 23\n",
        "07 01\n",
        "07 08\n",
        "07 48\n",
        "07 51\n",
        "08 09\n",
        "08 10\n",
        "08 11\n",
        "08 25\n",
        "08 58\n",
        "08 60\n",
        "08 61\n",
        "08 71\n",
        "08 118\n",
        "08 134\n",
        "08 136\n",
        "08 138\n",
        "08 142\n",
        "09 16\n",
        "09 17\n",
        "09 18\n",
        "09 21\n",
        "09 23\n",
        "09 165\n",
        "09 166\n",
        "09 172\n",
        "10 12\n",
        "10 14\n",
        "10 15\n",
        "10 22\n",
        "10 27\n",
        "10 159\n",
        "10 163\n",
        "10 165\n",
        "11 12\n",
        "11 26\n",
        "12 03\n",
        "12 10\n",
        "12 11\n",
        "13 12\n",
        "13 22\n",
        "13 26\n",
        "13 27\n",
        "13 28\n",
        "15 11\n",
        "15 13\n",
        "17 05\n",
        "17 06\n",
        "18 06\n",
        "18 20\n",
        "19 06\n",
        "19 09\n",
        "20 19\n",
        "21 05\n",
        "21 08\n",
        "21 10\n",
        "21 11\n",
        "21 13\n",
        "21 166\n",
        "21 176\n",
        "21 177\n",
        "21 178\n",
        "21 182\n",
        "22 03\n",
        "22 05\n",
        "22 09\n",
        "22 21\n",
        "22 105\n",
        "22 130\n",
        "22 146\n",
        "22 155\n",
        "22 162\n",
        "22 164\n",
        "22 171\n",
        "23 22\n",
        "23 24\n",
        "26 10\n",
        "27 11\n",
        "29 07\n",
        "29 31\n",
        "30 29\n",
        "31 01\n",
        "31 32\n",
        "31 53\n",
        "33 34\n",
        "33 35\n",
        "33 41\n",
        "33 50\n",
        "35 36\n",
        "36 05\n",
        "36 34\n",
        "36 37\n",
        "37 01\n",
        "37 02\n",
        "37 39\n",
        "38 41\n",
        "39 40\n",
        "40 02\n",
        "41 01\n",
        "41 40\n",
        "41 42\n",
        "41 43\n",
        "41 44\n",
        "41 45  \n",
        "42 39\n",
        "43 39\n",
        "44 02\n",
        "45 46\n",
        "46 41\n",
        "46 47\n",
        "47 33\n",
        "48 31\n",
        "48 37\n",
        "48 38\n",
        "48 54\n",
        "48 73\n",
        "48 83\n",
        "48 96\n",
        "48 97\n",
        "48 98\n",
        "48 104\n",
        "48 210\n",
        "48 215\n",
        "49 44\n",
        "49 48\n",
        "49 143\n",
        "49 149\n",
        "50 01\n",
        "50 22\n",
        "50 137\n",
        "50 138 \n",
        "51 30\n",
        "51 31\n",
        "51 52\n",
        "51 55\n",
        "51 62\n",
        "51 65\n",
        "51 70\n",
        "52 53\n",
        "53 54\n",
        "54 51\n",
        "55 02\n",
        "55 29\n",
        "55 32\n",
        "55 53\n",
        "55 56\n",
        "56 31\n",
        "57 08  \n",
        "58 57\n",
        "58 59\n",
        "58 60\n",
        "58 71\n",
        "59 08\n",
        "60 02 \n",
        "60 29\n",
        "60 121\n",
        "60 124\n",
        "60 127\n",
        "60 183\n",
        "60 194\n",
        "60 211\n",
        "61 58\n",
        "62 02 \n",
        "62 29\n",
        "63 29\n",
        "63 64\n",
        "64 65\n",
        "65 29\n",
        "65 68\n",
        "66 65\n",
        "67 66\n",
        "68 63"
      ],
      "metadata": {
        "colab": {
          "base_uri": "https://localhost:8080/"
        },
        "id": "VszQU96QAViV",
        "outputId": "0243562c-18d9-4c96-bc1f-bf41a89d59d7"
      },
      "execution_count": null,
      "outputs": [
        {
          "output_type": "stream",
          "name": "stdout",
          "text": [
            "Writing graph.txt\n"
          ]
        }
      ]
    },
    {
      "cell_type": "code",
      "source": [
        "with open(\"graph.txt\") as f:\n",
        "    edges = []\n",
        "    n = 0\n",
        "    for line in f:\n",
        "        u, v = [int(x) for x in line.split()]\n",
        "        edges.append((u-1, v-1))\n",
        "        if u > n:\n",
        "            n = u\n",
        "        if v > n:\n",
        "            n = v\n",
        "\n",
        "    G=[[] for _ in range(n)]\n",
        "    for u, v in edges:\n",
        "        G[u].append(v)\n",
        "\n",
        "for l in G:\n",
        "    print(l)\n",
        "    "
      ],
      "metadata": {
        "id": "MN1le7vLSsmK",
        "colab": {
          "base_uri": "https://localhost:8080/"
        },
        "outputId": "508ea924-2660-4cbf-a0f1-18ad0ea85b49"
      },
      "execution_count": null,
      "outputs": [
        {
          "output_type": "stream",
          "name": "stdout",
          "text": [
            "[2, 3, 4, 5, 48, 59, 117, 207]\n",
            "[0, 29, 30, 32, 37, 64, 66, 72, 78, 81, 88, 104, 194, 208]\n",
            "[1, 7, 20, 157, 165]\n",
            "[7]\n",
            "[0, 1, 7, 47, 50, 164, 187, 188]\n",
            "[7, 15, 17, 22]\n",
            "[0, 7, 47, 50]\n",
            "[8, 9, 10, 24, 57, 59, 60, 70, 117, 133, 135, 137, 141]\n",
            "[15, 16, 17, 20, 22, 164, 165, 171]\n",
            "[11, 13, 14, 21, 26, 158, 162, 164]\n",
            "[11, 25]\n",
            "[2, 9, 10]\n",
            "[11, 21, 25, 26, 27]\n",
            "[]\n",
            "[10, 12]\n",
            "[]\n",
            "[4, 5]\n",
            "[5, 19]\n",
            "[5, 8]\n",
            "[18]\n",
            "[4, 7, 9, 10, 12, 165, 175, 176, 177, 181]\n",
            "[2, 4, 8, 20, 104, 129, 145, 154, 161, 163, 170]\n",
            "[21, 23]\n",
            "[]\n",
            "[]\n",
            "[9]\n",
            "[10]\n",
            "[]\n",
            "[6, 30]\n",
            "[28]\n",
            "[0, 31, 52]\n",
            "[]\n",
            "[33, 34, 40, 49]\n",
            "[]\n",
            "[35]\n",
            "[4, 33, 36]\n",
            "[0, 1, 38]\n",
            "[40]\n",
            "[39]\n",
            "[1]\n",
            "[0, 39, 41, 42, 43, 44]\n",
            "[38]\n",
            "[38]\n",
            "[1]\n",
            "[45]\n",
            "[40, 46]\n",
            "[32]\n",
            "[30, 36, 37, 53, 72, 82, 95, 96, 97, 103, 209, 214]\n",
            "[43, 47, 142, 148]\n",
            "[0, 21, 136, 137]\n",
            "[29, 30, 51, 54, 61, 64, 69]\n",
            "[52]\n",
            "[53]\n",
            "[50]\n",
            "[1, 28, 31, 52, 55]\n",
            "[30]\n",
            "[7]\n",
            "[56, 58, 59, 70]\n",
            "[7]\n",
            "[1, 28, 120, 123, 126, 182, 193, 210]\n",
            "[57]\n",
            "[1, 28]\n",
            "[28, 63]\n",
            "[64]\n",
            "[28, 67]\n",
            "[64]\n",
            "[65]\n",
            "[62]\n",
            "[]\n",
            "[]\n",
            "[]\n",
            "[]\n",
            "[]\n",
            "[]\n",
            "[]\n",
            "[]\n",
            "[]\n",
            "[]\n",
            "[]\n",
            "[]\n",
            "[]\n",
            "[]\n",
            "[]\n",
            "[]\n",
            "[]\n",
            "[]\n",
            "[]\n",
            "[]\n",
            "[]\n",
            "[]\n",
            "[]\n",
            "[]\n",
            "[]\n",
            "[]\n",
            "[]\n",
            "[]\n",
            "[]\n",
            "[]\n",
            "[]\n",
            "[]\n",
            "[]\n",
            "[]\n",
            "[]\n",
            "[]\n",
            "[]\n",
            "[]\n",
            "[]\n",
            "[]\n",
            "[]\n",
            "[]\n",
            "[]\n",
            "[]\n",
            "[]\n",
            "[]\n",
            "[]\n",
            "[]\n",
            "[]\n",
            "[]\n",
            "[]\n",
            "[]\n",
            "[]\n",
            "[]\n",
            "[]\n",
            "[]\n",
            "[]\n",
            "[]\n",
            "[]\n",
            "[]\n",
            "[]\n",
            "[]\n",
            "[]\n",
            "[]\n",
            "[]\n",
            "[]\n",
            "[]\n",
            "[]\n",
            "[]\n",
            "[]\n",
            "[]\n",
            "[]\n",
            "[]\n",
            "[]\n",
            "[]\n",
            "[]\n",
            "[]\n",
            "[]\n",
            "[]\n",
            "[]\n",
            "[]\n",
            "[]\n",
            "[]\n",
            "[]\n",
            "[]\n",
            "[]\n",
            "[]\n",
            "[]\n",
            "[]\n",
            "[]\n",
            "[]\n",
            "[]\n",
            "[]\n",
            "[]\n",
            "[]\n",
            "[]\n",
            "[]\n",
            "[]\n",
            "[]\n",
            "[]\n",
            "[]\n",
            "[]\n",
            "[]\n",
            "[]\n",
            "[]\n",
            "[]\n",
            "[]\n",
            "[]\n",
            "[]\n",
            "[]\n",
            "[]\n",
            "[]\n",
            "[]\n",
            "[]\n",
            "[]\n",
            "[]\n",
            "[]\n",
            "[]\n",
            "[]\n",
            "[]\n",
            "[]\n",
            "[]\n",
            "[]\n",
            "[]\n",
            "[]\n",
            "[]\n",
            "[]\n",
            "[]\n",
            "[]\n",
            "[]\n",
            "[]\n",
            "[]\n",
            "[]\n",
            "[]\n",
            "[]\n",
            "[]\n",
            "[]\n",
            "[]\n",
            "[]\n",
            "[]\n",
            "[]\n",
            "[]\n",
            "[]\n",
            "[]\n",
            "[]\n",
            "[]\n",
            "[]\n"
          ]
        }
      ]
    },
    {
      "cell_type": "code",
      "source": [
        "%%file literal.txt\n",
        "0\t1\t1\t0\n",
        "1\t0\t0\t1\n",
        "1\t0\t0\t0\n",
        "0\t1\t0\t0"
      ],
      "metadata": {
        "colab": {
          "base_uri": "https://localhost:8080/"
        },
        "id": "wJk-UCpeDNlh",
        "outputId": "b163b687-8752-4f39-c664-ecac80a9b928"
      },
      "execution_count": null,
      "outputs": [
        {
          "output_type": "stream",
          "name": "stdout",
          "text": [
            "Writing literal.txt\n"
          ]
        }
      ]
    },
    {
      "cell_type": "code",
      "source": [
        "import numpy as np"
      ],
      "metadata": {
        "id": "fzq1AaPUDoXh"
      },
      "execution_count": null,
      "outputs": []
    },
    {
      "cell_type": "code",
      "source": [
        "G1 = np.loadtxt(\"literal.txt\", dtype=int, delimiter=\"\\t\")\n",
        "print(G1)\n",
        "\n",
        "n = len(G1)\n",
        "G2 = [[] for _ in range(n)]\n",
        "for i in range(n):\n",
        "    for j in range(n):\n",
        "        if G1[i, j] != 0:\n",
        "            G2[i].append(j)\n",
        "\n",
        "for l in G2:\n",
        "    print(l)"
      ],
      "metadata": {
        "colab": {
          "base_uri": "https://localhost:8080/"
        },
        "id": "DJ0cMvW6Drlt",
        "outputId": "7914df7d-0deb-4127-caae-bac73e09bf6c"
      },
      "execution_count": null,
      "outputs": [
        {
          "output_type": "stream",
          "name": "stdout",
          "text": [
            "[[0 1 1 0]\n",
            " [1 0 0 1]\n",
            " [1 0 0 0]\n",
            " [0 1 0 0]]\n",
            "[1, 2]\n",
            "[0, 3]\n",
            "[0]\n",
            "[1]\n"
          ]
        }
      ]
    },
    {
      "cell_type": "code",
      "source": [
        "from TF-201410183-201617515-201920273 import TP_Intersecciones_Final.txt"
      ],
      "metadata": {
        "id": "N6DO-sLtSseC",
        "colab": {
          "base_uri": "https://localhost:8080/",
          "height": 130
        },
        "outputId": "5a77b6d8-fbaf-4970-9408-e743517a48f6"
      },
      "execution_count": null,
      "outputs": [
        {
          "output_type": "error",
          "ename": "SyntaxError",
          "evalue": "ignored",
          "traceback": [
            "\u001b[0;36m  File \u001b[0;32m\"<ipython-input-14-57cb073f36fd>\"\u001b[0;36m, line \u001b[0;32m1\u001b[0m\n\u001b[0;31m    from TF-201410183-201617515-201920273 import TP_Intersecciones_Final.txt\u001b[0m\n\u001b[0m           ^\u001b[0m\n\u001b[0;31mSyntaxError\u001b[0m\u001b[0;31m:\u001b[0m invalid syntax\n"
          ]
        }
      ]
    }
  ]
}